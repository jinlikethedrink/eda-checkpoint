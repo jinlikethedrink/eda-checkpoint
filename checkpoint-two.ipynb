{
 "cells": [
  {
   "cell_type": "markdown",
   "metadata": {
    "azdata_cell_guid": "151601c9-ca7a-412e-af80-c62a87e0837e"
   },
   "source": [
    "# Checkpoint Two: Exploratory Data Analysis\n",
    "\n",
    "Now that your chosen dataset is approved, it is time to start working on your analysis. Use this notebook to perform your EDA and make notes where directed to as you work.\n",
    "\n",
    "## Getting Started\n",
    "\n",
    "Since we have not provided your dataset for you, you will need to load the necessary files in this repository. Make sure to include a link back to the original dataset here as well.\n",
    "\n",
    "My dataset: [DataAnalyst](.\\DataAnalyst)\n",
    "\n",
    "Your first task in EDA is to import necessary libraries and create a dataframe(s). Make note in the form of code comments of what your thought process is as you work on this setup task."
   ]
  },
  {
   "cell_type": "code",
   "execution_count": 1,
   "metadata": {
    "azdata_cell_guid": "7b503e37-6df5-4433-acfb-678b1346db14"
   },
   "outputs": [],
   "source": [
    "# First, I'm going to import pandas for sure to use Python!\n",
    "# I'm not sure what type of visualization I would use yet so I will import commonly used libraries from the class and exercises.\n",
    "\n",
    "import pandas as pd\n",
    "import matplotlib \n",
    "import matplotlib.pyplot as plt\n",
    "import seaborn as sns\n",
    "import numpy as np"
   ]
  },
  {
   "cell_type": "code",
   "execution_count": 2,
   "metadata": {
    "azdata_cell_guid": "463dcb9b-06fb-47c7-b1af-714ebb68f0b9",
    "tags": []
   },
   "outputs": [],
   "source": [
    "# Create a dataframe\n",
    "\n",
    "df = pd.read_csv(\"DataAnalyst.csv\")"
   ]
  },
  {
   "cell_type": "markdown",
   "metadata": {
    "azdata_cell_guid": "129ce836-524b-4ea8-b394-a959f9308d6a"
   },
   "source": [
    "## Get to Know the Numbers\n",
    "\n",
    "Now that you have everything setup, put any code that you use to get to know the dataframe and its rows and columns better in the cell below. You can use whatever techniques you like, except for visualizations. You will put those in a separate section.\n",
    "\n",
    "When working on your code, make sure to leave comments so that your mentors can understand your thought process."
   ]
  },
  {
   "cell_type": "markdown",
   "metadata": {
    "azdata_cell_guid": "0ca2d318-f6e8-43ef-a33e-5304d24d928d",
    "tags": []
   },
   "source": [
    "* * *\n",
    "\n",
    "_**Reminder of the business issue from the Checkpoint 1:**_\n",
    "\n",
    "Business Issue: Research job market for Data Analysts. Analyze the followings based on 2,253 job listings scraped from Glassdoor.\n",
    "\n",
    "1. What is the average salary?\n",
    "2. Which city offers the highest and lowest salary?\n",
    "3. Which city employs the most data analysts?\n",
    "4. Which industry seeks the most data analysts?\n",
    "\n",
    "* * *"
   ]
  },
  {
   "cell_type": "code",
   "execution_count": 3,
   "metadata": {
    "azdata_cell_guid": "272c4205-5e4c-46e6-b3a2-b760a8af620c",
    "tags": []
   },
   "outputs": [
    {
     "data": {
      "text/html": [
       "<div>\n",
       "<style scoped>\n",
       "    .dataframe tbody tr th:only-of-type {\n",
       "        vertical-align: middle;\n",
       "    }\n",
       "\n",
       "    .dataframe tbody tr th {\n",
       "        vertical-align: top;\n",
       "    }\n",
       "\n",
       "    .dataframe thead th {\n",
       "        text-align: right;\n",
       "    }\n",
       "</style>\n",
       "<table border=\"1\" class=\"dataframe\">\n",
       "  <thead>\n",
       "    <tr style=\"text-align: right;\">\n",
       "      <th></th>\n",
       "      <th>Unnamed: 0</th>\n",
       "      <th>Job Title</th>\n",
       "      <th>Salary Estimate</th>\n",
       "      <th>Job Description</th>\n",
       "      <th>Rating</th>\n",
       "      <th>Company Name</th>\n",
       "      <th>Location</th>\n",
       "      <th>Headquarters</th>\n",
       "      <th>Size</th>\n",
       "      <th>Founded</th>\n",
       "      <th>Type of ownership</th>\n",
       "      <th>Industry</th>\n",
       "      <th>Sector</th>\n",
       "      <th>Revenue</th>\n",
       "      <th>Competitors</th>\n",
       "      <th>Easy Apply</th>\n",
       "    </tr>\n",
       "  </thead>\n",
       "  <tbody>\n",
       "    <tr>\n",
       "      <th>0</th>\n",
       "      <td>0</td>\n",
       "      <td>Data Analyst, Center on Immigration and Justic...</td>\n",
       "      <td>$37K-$66K (Glassdoor est.)</td>\n",
       "      <td>Are you eager to roll up your sleeves and harn...</td>\n",
       "      <td>3.2</td>\n",
       "      <td>Vera Institute of Justice\\n3.2</td>\n",
       "      <td>New York, NY</td>\n",
       "      <td>New York, NY</td>\n",
       "      <td>201 to 500 employees</td>\n",
       "      <td>1961</td>\n",
       "      <td>Nonprofit Organization</td>\n",
       "      <td>Social Assistance</td>\n",
       "      <td>Non-Profit</td>\n",
       "      <td>$100 to $500 million (USD)</td>\n",
       "      <td>-1</td>\n",
       "      <td>TRUE</td>\n",
       "    </tr>\n",
       "    <tr>\n",
       "      <th>1</th>\n",
       "      <td>1</td>\n",
       "      <td>Quality Data Analyst</td>\n",
       "      <td>$37K-$66K (Glassdoor est.)</td>\n",
       "      <td>Overview\\n\\nProvides analytical and technical ...</td>\n",
       "      <td>3.8</td>\n",
       "      <td>Visiting Nurse Service of New York\\n3.8</td>\n",
       "      <td>New York, NY</td>\n",
       "      <td>New York, NY</td>\n",
       "      <td>10000+ employees</td>\n",
       "      <td>1893</td>\n",
       "      <td>Nonprofit Organization</td>\n",
       "      <td>Health Care Services &amp; Hospitals</td>\n",
       "      <td>Health Care</td>\n",
       "      <td>$2 to $5 billion (USD)</td>\n",
       "      <td>-1</td>\n",
       "      <td>-1</td>\n",
       "    </tr>\n",
       "    <tr>\n",
       "      <th>2</th>\n",
       "      <td>2</td>\n",
       "      <td>Senior Data Analyst, Insights &amp; Analytics Team...</td>\n",
       "      <td>$37K-$66K (Glassdoor est.)</td>\n",
       "      <td>We’re looking for a Senior Data Analyst who ha...</td>\n",
       "      <td>3.4</td>\n",
       "      <td>Squarespace\\n3.4</td>\n",
       "      <td>New York, NY</td>\n",
       "      <td>New York, NY</td>\n",
       "      <td>1001 to 5000 employees</td>\n",
       "      <td>2003</td>\n",
       "      <td>Company - Private</td>\n",
       "      <td>Internet</td>\n",
       "      <td>Information Technology</td>\n",
       "      <td>Unknown / Non-Applicable</td>\n",
       "      <td>GoDaddy</td>\n",
       "      <td>-1</td>\n",
       "    </tr>\n",
       "  </tbody>\n",
       "</table>\n",
       "</div>"
      ],
      "text/plain": [
       "   Unnamed: 0                                          Job Title  \\\n",
       "0           0  Data Analyst, Center on Immigration and Justic...   \n",
       "1           1                               Quality Data Analyst   \n",
       "2           2  Senior Data Analyst, Insights & Analytics Team...   \n",
       "\n",
       "              Salary Estimate  \\\n",
       "0  $37K-$66K (Glassdoor est.)   \n",
       "1  $37K-$66K (Glassdoor est.)   \n",
       "2  $37K-$66K (Glassdoor est.)   \n",
       "\n",
       "                                     Job Description  Rating  \\\n",
       "0  Are you eager to roll up your sleeves and harn...     3.2   \n",
       "1  Overview\\n\\nProvides analytical and technical ...     3.8   \n",
       "2  We’re looking for a Senior Data Analyst who ha...     3.4   \n",
       "\n",
       "                              Company Name      Location  Headquarters  \\\n",
       "0           Vera Institute of Justice\\n3.2  New York, NY  New York, NY   \n",
       "1  Visiting Nurse Service of New York\\n3.8  New York, NY  New York, NY   \n",
       "2                         Squarespace\\n3.4  New York, NY  New York, NY   \n",
       "\n",
       "                     Size  Founded       Type of ownership  \\\n",
       "0    201 to 500 employees     1961  Nonprofit Organization   \n",
       "1        10000+ employees     1893  Nonprofit Organization   \n",
       "2  1001 to 5000 employees     2003       Company - Private   \n",
       "\n",
       "                           Industry                  Sector  \\\n",
       "0                 Social Assistance              Non-Profit   \n",
       "1  Health Care Services & Hospitals             Health Care   \n",
       "2                          Internet  Information Technology   \n",
       "\n",
       "                      Revenue Competitors Easy Apply  \n",
       "0  $100 to $500 million (USD)          -1       TRUE  \n",
       "1      $2 to $5 billion (USD)          -1         -1  \n",
       "2    Unknown / Non-Applicable     GoDaddy         -1  "
      ]
     },
     "execution_count": 3,
     "metadata": {},
     "output_type": "execute_result"
    }
   ],
   "source": [
    "# EDA Start!\n",
    "\n",
    "# Preview of the dataset\n",
    "# Using .head() will show me the header and columns with data in it.\n",
    "# However, I don't want to run the whole dataset because it can be slow or too big. I will pull top 3 only. Let's see what it looks like!\n",
    "\n",
    "df.head(3)\n",
    "\n",
    "# From the result, I could find columns that I need: Salary Estimate, Location, and Industry."
   ]
  },
  {
   "cell_type": "code",
   "execution_count": 4,
   "metadata": {
    "azdata_cell_guid": "4593d316-f09d-46b4-99e5-3950e9c174d1",
    "tags": []
   },
   "outputs": [
    {
     "data": {
      "text/plain": [
       "2253"
      ]
     },
     "execution_count": 4,
     "metadata": {},
     "output_type": "execute_result"
    }
   ],
   "source": [
    "# To answer the business issues/questions, I will need to know the followings:\n",
    "\n",
    "# How many rows are in the dataset? \n",
    "    # ^ It can tell the number of jobs listed.\n",
    "\n",
    "len(df)\n",
    "\n",
    "## Result 2253\n",
    "## There are 2253 of jobs listed!"
   ]
  },
  {
   "cell_type": "code",
   "execution_count": 5,
   "metadata": {
    "azdata_cell_guid": "03f8c4fd-df78-4172-8116-0f3cc0bd8d24"
   },
   "outputs": [
    {
     "data": {
      "text/plain": [
       "253"
      ]
     },
     "execution_count": 5,
     "metadata": {},
     "output_type": "execute_result"
    }
   ],
   "source": [
    "# How many locations are in the dataset?\n",
    "\n",
    "df['Location'].drop_duplicates().count()\n",
    "\n",
    "## Result 253\n",
    "## Excluding duplicates, there are 235 locations are listed across 2253 job posts."
   ]
  },
  {
   "cell_type": "code",
   "execution_count": 6,
   "metadata": {
    "azdata_cell_guid": "9894bff3-3272-414e-a2cd-e6d7eed1ae96",
    "tags": []
   },
   "outputs": [
    {
     "data": {
      "text/plain": [
       "89"
      ]
     },
     "execution_count": 6,
     "metadata": {},
     "output_type": "execute_result"
    }
   ],
   "source": [
    "# How many industries are in the dataset? \n",
    "\n",
    "df['Industry'].drop_duplicates().count()\n",
    "\n",
    "## Result 89\n",
    "## Excluding duplicates, there are 89 industries are hiring Data Analysts across 2253 job posts."
   ]
  },
  {
   "cell_type": "code",
   "execution_count": 7,
   "metadata": {
    "azdata_cell_guid": "709dc50e-f5e7-4bf3-927b-28762f7887e1"
   },
   "outputs": [],
   "source": [
    "# Most importantly, I need to see the Salary column in order to answer the first question of the business issue.\n",
    "# However, I will skip this part for now as it requires data cleaning. \n",
    "# The salary column contains specific character - $, -, (, ) - and text. I will need to remove them.\n",
    "# Data cleaning will be handled from the next assignment, Checkpoint 3."
   ]
  },
  {
   "cell_type": "markdown",
   "metadata": {
    "azdata_cell_guid": "d45060f3-97bc-484a-9ef4-66145bbe9427"
   },
   "source": [
    "## Visualize\n",
    "\n",
    "Create any visualizations for your EDA here. Make note in the form of code comments of what your thought process is for your visualizations."
   ]
  },
  {
   "cell_type": "code",
   "execution_count": 8,
   "metadata": {
    "azdata_cell_guid": "f4565b03-759a-47a8-b58f-01b32a0b4b67"
   },
   "outputs": [
    {
     "data": {
      "text/html": [
       "<div>\n",
       "<style scoped>\n",
       "    .dataframe tbody tr th:only-of-type {\n",
       "        vertical-align: middle;\n",
       "    }\n",
       "\n",
       "    .dataframe tbody tr th {\n",
       "        vertical-align: top;\n",
       "    }\n",
       "\n",
       "    .dataframe thead th {\n",
       "        text-align: right;\n",
       "    }\n",
       "</style>\n",
       "<table border=\"1\" class=\"dataframe\">\n",
       "  <thead>\n",
       "    <tr style=\"text-align: right;\">\n",
       "      <th></th>\n",
       "      <th>Number of Job Listings</th>\n",
       "    </tr>\n",
       "  </thead>\n",
       "  <tbody>\n",
       "    <tr>\n",
       "      <th>Count Total:</th>\n",
       "      <td>2253</td>\n",
       "    </tr>\n",
       "  </tbody>\n",
       "</table>\n",
       "</div>"
      ],
      "text/plain": [
       "              Number of Job Listings\n",
       "Count Total:                    2253"
      ]
     },
     "execution_count": 8,
     "metadata": {},
     "output_type": "execute_result"
    }
   ],
   "source": [
    "# How many jobs in the dataset? \n",
    "\n",
    "totaljobs = [len(df)]\n",
    "jobs = pd.DataFrame(totaljobs, columns = ['Number of Job Listings'], index = ['Count Total:'])\n",
    "jobs\n",
    "\n",
    "# I wanted to show a simple table that shows how many job listings in the dataset. \n",
    "# I chose a table rather than graphs because all I need is Count Total, not individual jobs and details.\n",
    "# Applied the column and index name for a better readability."
   ]
  },
  {
   "cell_type": "code",
   "execution_count": 9,
   "metadata": {
    "azdata_cell_guid": "042baf8b-d153-43a6-a561-7d6187b76e23"
   },
   "outputs": [
    {
     "data": {
      "text/plain": [
       "New York, NY          310\n",
       "Chicago, IL           130\n",
       "San Francisco, CA     119\n",
       "Austin, TX             81\n",
       "Los Angeles, CA        80\n",
       "Charlotte, NC          78\n",
       "Houston, TX            72\n",
       "Dallas, TX             66\n",
       "San Diego, CA          62\n",
       "Philadelphia, PA       56\n",
       "Denver, CO             47\n",
       "San Antonio, TX        45\n",
       "San Jose, CA           38\n",
       "Phoenix, AZ            35\n",
       "Jersey City, NJ        33\n",
       "Tempe, AZ              31\n",
       "Seattle, WA            30\n",
       "Irving, TX             29\n",
       "Columbus, OH           29\n",
       "Plano, TX              28\n",
       "Santa Clara, CA        22\n",
       "Salt Lake City, UT     22\n",
       "El Segundo, CA         19\n",
       "Jacksonville, FL       19\n",
       "San Mateo, CA          18\n",
       "Name: Location, dtype: int64"
      ]
     },
     "execution_count": 9,
     "metadata": {},
     "output_type": "execute_result"
    }
   ],
   "source": [
    "# Now I'm going to create a visualization with Location where listed the most jobs.\n",
    "# I figured earlier from the EDA section above that there are 253 cities excluding duplicates in the dataset.\n",
    "# Displaying 253 locations visually is too much to show, and I don't think it meets the ultimate purpose of data visualization.\n",
    "# So I decided to show top 10% of the locations. Let's do top 25 then. \n",
    "\n",
    "location_top25 =  df['Location'].value_counts(ascending=False).head(25)\n",
    "location_top25\n",
    "\n",
    "#For easy handing, I made this result as a new dataframe."
   ]
  },
  {
   "cell_type": "code",
   "execution_count": 10,
   "metadata": {
    "azdata_cell_guid": "9769acc0-09a8-4c9d-b90d-3507f9856628",
    "tags": []
   },
   "outputs": [
    {
     "data": {
      "text/plain": [
       "Text(0.5, 1.0, 'Top 25 Locations Where Posted Data Analyst Jobs Most!')"
      ]
     },
     "execution_count": 10,
     "metadata": {},
     "output_type": "execute_result"
    },
    {
     "data": {
      "image/png": "[encoded data removed]",
      "text/plain": [
       "<Figure size 1080x720 with 1 Axes>"
      ]
     },
     "metadata": {
      "needs_background": "light"
     },
     "output_type": "display_data"
    }
   ],
   "source": [
    "# Now I can apply Matplotlib's bar graph to the new dataframe.\n",
    "\n",
    "location_top25.sort_values(ascending=True).plot(kind='barh',figsize=(15,10))\n",
    "plt.xlabel('Number of Job Listings')\n",
    "plt.ylabel('Location')\n",
    "plt.title('Top 25 Locations Where Posted Data Analyst Jobs Most!')\n",
    "\n",
    "# I chose horizontal bar graph because of the location name. It's a somewhat long string to display vertically so I applied 'barh'.\n",
    "# After that, I figured the 'barh' graph displays the result backward: low number first at top, larger number last at the bottom.\n",
    "# I wanted to reverse them so I applied 'sort_value' before '.plot' starts.\n",
    "# Named the x label, y label, and Title!"
   ]
  },
  {
   "cell_type": "code",
   "execution_count": 11,
   "metadata": {
    "azdata_cell_guid": "e3701522-0a78-4129-8415-d9a907b92547"
   },
   "outputs": [
    {
     "data": {
      "text/html": [
       "<div>\n",
       "<style scoped>\n",
       "    .dataframe tbody tr th:only-of-type {\n",
       "        vertical-align: middle;\n",
       "    }\n",
       "\n",
       "    .dataframe tbody tr th {\n",
       "        vertical-align: top;\n",
       "    }\n",
       "\n",
       "    .dataframe thead th {\n",
       "        text-align: right;\n",
       "    }\n",
       "</style>\n",
       "<table border=\"1\" class=\"dataframe\">\n",
       "  <thead>\n",
       "    <tr style=\"text-align: right;\">\n",
       "      <th></th>\n",
       "      <th>Industry</th>\n",
       "    </tr>\n",
       "  </thead>\n",
       "  <tbody>\n",
       "    <tr>\n",
       "      <th>-1</th>\n",
       "      <td>353</td>\n",
       "    </tr>\n",
       "    <tr>\n",
       "      <th>IT Services</th>\n",
       "      <td>325</td>\n",
       "    </tr>\n",
       "    <tr>\n",
       "      <th>Staffing &amp; Outsourcing</th>\n",
       "      <td>323</td>\n",
       "    </tr>\n",
       "    <tr>\n",
       "      <th>Health Care Services &amp; Hospitals</th>\n",
       "      <td>151</td>\n",
       "    </tr>\n",
       "    <tr>\n",
       "      <th>Computer Hardware &amp; Software</th>\n",
       "      <td>111</td>\n",
       "    </tr>\n",
       "    <tr>\n",
       "      <th>Consulting</th>\n",
       "      <td>111</td>\n",
       "    </tr>\n",
       "    <tr>\n",
       "      <th>Investment Banking &amp; Asset Management</th>\n",
       "      <td>78</td>\n",
       "    </tr>\n",
       "    <tr>\n",
       "      <th>Enterprise Software &amp; Network Solutions</th>\n",
       "      <td>69</td>\n",
       "    </tr>\n",
       "    <tr>\n",
       "      <th>Internet</th>\n",
       "      <td>65</td>\n",
       "    </tr>\n",
       "    <tr>\n",
       "      <th>Advertising &amp; Marketing</th>\n",
       "      <td>51</td>\n",
       "    </tr>\n",
       "  </tbody>\n",
       "</table>\n",
       "</div>"
      ],
      "text/plain": [
       "                                         Industry\n",
       "-1                                            353\n",
       "IT Services                                   325\n",
       "Staffing & Outsourcing                        323\n",
       "Health Care Services & Hospitals              151\n",
       "Computer Hardware & Software                  111\n",
       "Consulting                                    111\n",
       "Investment Banking & Asset Management          78\n",
       "Enterprise Software & Network Solutions        69\n",
       "Internet                                       65\n",
       "Advertising & Marketing                        51"
      ]
     },
     "execution_count": 11,
     "metadata": {},
     "output_type": "execute_result"
    }
   ],
   "source": [
    "# I'm going to do the same visualization but for Industry this time instead of Location.\n",
    "# I figured from above that there are 89 industries excluding duplicates, I will do top 10 this time. \n",
    "\n",
    "df['Industry'].value_counts(ascending=False).head(10).to_frame()\n",
    "\n",
    "# Well, result came out with the Industry value '-1', which is unknown. I need to drop that out."
   ]
  },
  {
   "cell_type": "code",
   "execution_count": 12,
   "metadata": {
    "azdata_cell_guid": "44cc39d7-18e1-46f4-bc16-a1256d4bb922"
   },
   "outputs": [
    {
     "data": {
      "text/plain": [
       "IT Services                                325\n",
       "Staffing & Outsourcing                     323\n",
       "Health Care Services & Hospitals           151\n",
       "Computer Hardware & Software               111\n",
       "Consulting                                 111\n",
       "Investment Banking & Asset Management       78\n",
       "Enterprise Software & Network Solutions     69\n",
       "Internet                                    65\n",
       "Advertising & Marketing                     51\n",
       "Banks & Credit Unions                       51\n",
       "Name: Industry, dtype: int64"
      ]
     },
     "execution_count": 12,
     "metadata": {},
     "output_type": "execute_result"
    }
   ],
   "source": [
    "# Let's drop the row where it has the value of '-1'  in Industry column. Then I can pull the Industry column again, and sort top 10.\n",
    "\n",
    "# drop row has '-1' in Industry column\n",
    "df_industry = df[df.Industry != '-1']\n",
    "\n",
    "# get top 10 out of trimmed Industry column. Made a new dataframe for easy handling. \n",
    "industry_top10 = df_industry['Industry'].value_counts(ascending=False).head(10)\n",
    "\n",
    "industry_top10\n"
   ]
  },
  {
   "cell_type": "code",
   "execution_count": 13,
   "metadata": {
    "azdata_cell_guid": "1034178e-d556-4e48-b5c5-5f0e697dddc5"
   },
   "outputs": [
    {
     "data": {
      "text/plain": [
       "Text(0.5, 1.0, 'Top 10 Industries Seek Data Analysts Most!')"
      ]
     },
     "execution_count": 13,
     "metadata": {},
     "output_type": "execute_result"
    },
    {
     "data": {
      "image/png": "[encoded data removed]",
      "text/plain": [
       "<Figure size 1080x360 with 1 Axes>"
      ]
     },
     "metadata": {
      "needs_background": "light"
     },
     "output_type": "display_data"
    }
   ],
   "source": [
    "industry_top10.sort_values(ascending=True).plot(kind='barh',figsize=(15,5), color= 'green')\n",
    "plt.xlabel('Number of Job Listings')\n",
    "plt.ylabel('Industry')\n",
    "plt.title('Top 10 Industries Seek Data Analysts Most!')\n",
    "\n",
    "# I chose horizontal bar graph because of long strings in Industry column values. \n",
    "# Sorted to show top to bottom based on the counted numbers.\n",
    "# Name x, y labels, and Title!"
   ]
  },
  {
   "cell_type": "markdown",
   "metadata": {
    "azdata_cell_guid": "d4931c0c-2c09-4ee1-95d4-73dd08c2f0a6"
   },
   "source": [
    "## Summarize Your Results\n",
    "\n",
    "With your EDA complete, answer the following questions.\n",
    "\n",
    "1. Was there anything surprising about your dataset?\n",
    "2. Do you have any concerns about your dataset?\n",
    "3. Is there anything you want to make note of for the next phase of your analysis, which is cleaning data?"
   ]
  },
  {
   "cell_type": "markdown",
   "metadata": {
    "azdata_cell_guid": "51cc6fb7-d2c5-4dd5-b98e-c62b65a64464"
   },
   "source": [
    "Answer: \n",
    "\n",
    "1. Yes, it is pretty clean dataset! Of course I need to clean some columns but all the values are written in a certain format, which is appreciated! Thinking about the resources, which these were scrapped form Glassdoor, it makes sense. I'm assuming UI fields where these data collected were more likely dropdown style rather than free-form text. This can be something I need to consider in a job.\n",
    "2. I wish there is data related information. I can't tell the trend even if I analyze the average salary because of lack of date information. But it would be still interesting (for me)!\n",
    "3. Yes, I need to clean the Salary column as it contains lots of special characters. Also I may need to split the values in order to calculate its average between two numbers."
   ]
  }
 ],
 "metadata": {
  "kernelspec": {
   "display_name": "Python 3 (ipykernel)",
   "language": "python",
   "name": "python3"
  },
  "language_info": {
   "codemirror_mode": {
    "name": "ipython",
    "version": 3
   },
   "file_extension": ".py",
   "mimetype": "text/x-python",
   "name": "python",
   "nbconvert_exporter": "python",
   "pygments_lexer": "ipython3",
   "version": "3.9.7"
  }
 },
 "nbformat": 4,
 "nbformat_minor": 2
}
